{
 "cells": [
  {
   "cell_type": "code",
   "execution_count": 4,
   "id": "02d98550-85c2-4265-84a8-fa12ad4314f1",
   "metadata": {},
   "outputs": [],
   "source": [
    "# Set the PySpark environment variables\n",
    "import os\n",
    "os.environ['SPARK_HOME'] = \"/Users/venkatasaisabbineni/Work/Spark\"\n",
    "os.environ['PYSPARK_DRIVER_PYTHON'] = 'jupyter'\n",
    "os.environ['PYSPARK_DRIVER_PYTHON_OPTS'] = 'lab'\n",
    "os.environ['PYSPARK_PYTHON'] = 'python'"
   ]
  },
  {
   "cell_type": "raw",
   "id": "b38ac55f-5b09-43e3-874b-edf96bc13bd6",
   "metadata": {},
   "source": []
  },
  {
   "cell_type": "code",
   "execution_count": 1,
   "id": "689905c3-67af-40fe-ab68-29f41637e292",
   "metadata": {},
   "outputs": [
    {
     "name": "stderr",
     "output_type": "stream",
     "text": [
      "Setting default log level to \"WARN\".\n",
      "To adjust logging level use sc.setLogLevel(newLevel). For SparkR, use setLogLevel(newLevel).\n",
      "24/07/12 11:46:52 WARN NativeCodeLoader: Unable to load native-hadoop library for your platform... using builtin-java classes where applicable\n"
     ]
    }
   ],
   "source": [
    "from pyspark.sql import SparkSession\n",
    "spark = SparkSession.builder.appName(\"DataFrame-Operations\").getOrCreate()"
   ]
  },
  {
   "cell_type": "code",
   "execution_count": 2,
   "id": "4e02dc2f-342c-4041-9aa6-96d35dcabbc3",
   "metadata": {},
   "outputs": [],
   "source": [
    "data_file_path = \"./data/customer_data.csv\"\n",
    "df = spark.read.csv(data_file_path,header = True, inferSchema = True)"
   ]
  },
  {
   "cell_type": "code",
   "execution_count": 7,
   "id": "df8071d9-854e-446d-9fcf-439054bfa980",
   "metadata": {},
   "outputs": [
    {
     "name": "stdout",
     "output_type": "stream",
     "text": [
      "root\n",
      " |-- ID: integer (nullable = true)\n",
      " |-- Name: string (nullable = true)\n",
      " |-- Email: string (nullable = true)\n",
      " |-- Credit_Card_Number: string (nullable = true)\n",
      " |-- Credit_Card_Type: string (nullable = true)\n",
      "\n",
      "+---+----------------+--------------------+------------------+--------------------+\n",
      "| ID|            Name|               Email|Credit_Card_Number|    Credit_Card_Type|\n",
      "+---+----------------+--------------------+------------------+--------------------+\n",
      "|  1|      Rodi Lotze|  rlotze0@netlog.com|               nan|      china-unionpay|\n",
      "|  2| Vachel Waistell|vwaistell1@answer...|               nan|diners-club-inter...|\n",
      "|  3|  Mikey Buttrick| mbuttrick2@narod.ru|   5.893663168e+17|             maestro|\n",
      "|  4|            None|mking3@networkadv...|3539133178799873.0|                 jcb|\n",
      "|  5| Beverie Ternott|bternott4@rakuten...|3528122067307396.0|                 jcb|\n",
      "|  6|Adan Spain-Gower|aspaingower5@diig...|3552301123264739.0|                 jcb|\n",
      "|  7|  Julius Isworth| jisworth6@sogou.com|5002353708913397.0|          mastercard|\n",
      "|  8|   Lurette Dalli| ldalli7@dropbox.com|3552100530171127.0|                 jcb|\n",
      "|  9|  Chic Skeldinge|cskeldinge8@bigca...|3567576059192755.0|                 jcb|\n",
      "| 10|     Meir Meneer|  mmeneer9@hexun.com|3574817615535363.0|                 jcb|\n",
      "| 11|   Elyn Colegate|ecolegatea@goo.ne.jp|     5.0206503e+16|             maestro|\n",
      "| 12|      Orly Briar| obriarb@latimes.com|5602251431404060.0|            bankcard|\n",
      "| 13| Brittni Killock|bkillockc@slidesh...|   6.771555991e+17|               laser|\n",
      "| 14|            None|parnaldyd@statcou...|   4.911495404e+17|              switch|\n",
      "| 15| Vittoria Ranald|   vranalde@cnet.com|   4259579930361.0|                visa|\n",
      "| 16|      Dex Mannin|dmanninf@craigsli...|               nan|       visa-electron|\n",
      "| 17|   Erwin Godding|egoddingg@comsenz...|3565750204225909.0|                 jcb|\n",
      "| 18| Stearn Careless|scarelessh@craigs...| 337941956429509.0|     americanexpress|\n",
      "| 19|            None|   shempshalli@de.vu|   5.018462604e+16|             maestro|\n",
      "| 20|    Viole Ridder|vridderj@kickstar...|   5.018100969e+17|             maestro|\n",
      "+---+----------------+--------------------+------------------+--------------------+\n",
      "only showing top 20 rows\n",
      "\n"
     ]
    },
    {
     "data": {
      "text/plain": [
       "1000"
      ]
     },
     "execution_count": 7,
     "metadata": {},
     "output_type": "execute_result"
    }
   ],
   "source": [
    "df.printSchema()\n",
    "df.show()\n",
    "df.count()"
   ]
  },
  {
   "cell_type": "code",
   "execution_count": 8,
   "id": "ad6baedf",
   "metadata": {},
   "outputs": [],
   "source": [
    "import pandas as pd\n",
    "df = pd.read_csv('./data/customer_data.csv')\n",
    "rows_per_file = 100\n",
    "\n",
    "num_files = len(df) // rows_per_file\n",
    "\n",
    "for i in range(num_files):\n",
    "    start_row = i * rows_per_file\n",
    "    end_row = (i + 1) * rows_per_file\n",
    "    chunk = df.iloc[start_row:end_row]\n",
    "    chunk.to_csv(f'your_file_part_{i+1}.csv', index=False)\n",
    "\n",
    "# If there are remaining rows, save them as well\n",
    "if len(df) % rows_per_file != 0:\n",
    "    start_row = num_files * rows_per_file\n",
    "    chunk = df.iloc[start_row:]\n",
    "    chunk.to_csv(f'your_file_part_{num_files+1}.csv', index=False)"
   ]
  },
  {
   "cell_type": "code",
   "execution_count": 9,
   "id": "35657812-3017-4d4c-924d-aa18902823bf",
   "metadata": {},
   "outputs": [
    {
     "ename": "AnalysisException",
     "evalue": "[UNRESOLVED_COLUMN.WITH_SUGGESTION] A column or function parameter with name `price` cannot be resolved. Did you mean one of the following? [`ID`, `Name`, `Email`, `Credit_Card_Type`, `Credit_Card_Number`].;\n'Project [id#17, name#18, 'price]\n+- Relation [ID#17,Name#18,Email#19,Credit_Card_Number#20,Credit_Card_Type#21] csv\n",
     "output_type": "error",
     "traceback": [
      "\u001b[0;31m---------------------------------------------------------------------------\u001b[0m",
      "\u001b[0;31mAnalysisException\u001b[0m                         Traceback (most recent call last)",
      "Cell \u001b[0;32mIn[9], line 1\u001b[0m\n\u001b[0;32m----> 1\u001b[0m selected_columns \u001b[38;5;241m=\u001b[39m \u001b[43mdf\u001b[49m\u001b[38;5;241;43m.\u001b[39;49m\u001b[43mselect\u001b[49m\u001b[43m(\u001b[49m\u001b[38;5;124;43m\"\u001b[39;49m\u001b[38;5;124;43mid\u001b[39;49m\u001b[38;5;124;43m\"\u001b[39;49m\u001b[43m,\u001b[49m\u001b[38;5;124;43m\"\u001b[39;49m\u001b[38;5;124;43mname\u001b[39;49m\u001b[38;5;124;43m\"\u001b[39;49m\u001b[43m,\u001b[49m\u001b[38;5;124;43m\"\u001b[39;49m\u001b[38;5;124;43mprice\u001b[39;49m\u001b[38;5;124;43m\"\u001b[39;49m\u001b[43m)\u001b[49m\n\u001b[1;32m      2\u001b[0m \u001b[38;5;28mprint\u001b[39m(\u001b[38;5;124m\"\u001b[39m\u001b[38;5;124mSelected Columns : \u001b[39m\u001b[38;5;124m\"\u001b[39m)\n\u001b[1;32m      3\u001b[0m selected_columns\u001b[38;5;241m.\u001b[39mshow()\n",
      "File \u001b[0;32m~/Work/PySpark/pyspark-env/lib/python3.11/site-packages/pyspark/sql/dataframe.py:3227\u001b[0m, in \u001b[0;36mDataFrame.select\u001b[0;34m(self, *cols)\u001b[0m\n\u001b[1;32m   3182\u001b[0m \u001b[38;5;28;01mdef\u001b[39;00m \u001b[38;5;21mselect\u001b[39m(\u001b[38;5;28mself\u001b[39m, \u001b[38;5;241m*\u001b[39mcols: \u001b[38;5;124m\"\u001b[39m\u001b[38;5;124mColumnOrName\u001b[39m\u001b[38;5;124m\"\u001b[39m) \u001b[38;5;241m-\u001b[39m\u001b[38;5;241m>\u001b[39m \u001b[38;5;124m\"\u001b[39m\u001b[38;5;124mDataFrame\u001b[39m\u001b[38;5;124m\"\u001b[39m:  \u001b[38;5;66;03m# type: ignore[misc]\u001b[39;00m\n\u001b[1;32m   3183\u001b[0m \u001b[38;5;250m    \u001b[39m\u001b[38;5;124;03m\"\"\"Projects a set of expressions and returns a new :class:`DataFrame`.\u001b[39;00m\n\u001b[1;32m   3184\u001b[0m \n\u001b[1;32m   3185\u001b[0m \u001b[38;5;124;03m    .. versionadded:: 1.3.0\u001b[39;00m\n\u001b[0;32m   (...)\u001b[0m\n\u001b[1;32m   3225\u001b[0m \u001b[38;5;124;03m    +-----+---+\u001b[39;00m\n\u001b[1;32m   3226\u001b[0m \u001b[38;5;124;03m    \"\"\"\u001b[39;00m\n\u001b[0;32m-> 3227\u001b[0m     jdf \u001b[38;5;241m=\u001b[39m \u001b[38;5;28;43mself\u001b[39;49m\u001b[38;5;241;43m.\u001b[39;49m\u001b[43m_jdf\u001b[49m\u001b[38;5;241;43m.\u001b[39;49m\u001b[43mselect\u001b[49m\u001b[43m(\u001b[49m\u001b[38;5;28;43mself\u001b[39;49m\u001b[38;5;241;43m.\u001b[39;49m\u001b[43m_jcols\u001b[49m\u001b[43m(\u001b[49m\u001b[38;5;241;43m*\u001b[39;49m\u001b[43mcols\u001b[49m\u001b[43m)\u001b[49m\u001b[43m)\u001b[49m\n\u001b[1;32m   3228\u001b[0m     \u001b[38;5;28;01mreturn\u001b[39;00m DataFrame(jdf, \u001b[38;5;28mself\u001b[39m\u001b[38;5;241m.\u001b[39msparkSession)\n",
      "File \u001b[0;32m~/Work/PySpark/pyspark-env/lib/python3.11/site-packages/py4j/java_gateway.py:1322\u001b[0m, in \u001b[0;36mJavaMember.__call__\u001b[0;34m(self, *args)\u001b[0m\n\u001b[1;32m   1316\u001b[0m command \u001b[38;5;241m=\u001b[39m proto\u001b[38;5;241m.\u001b[39mCALL_COMMAND_NAME \u001b[38;5;241m+\u001b[39m\\\n\u001b[1;32m   1317\u001b[0m     \u001b[38;5;28mself\u001b[39m\u001b[38;5;241m.\u001b[39mcommand_header \u001b[38;5;241m+\u001b[39m\\\n\u001b[1;32m   1318\u001b[0m     args_command \u001b[38;5;241m+\u001b[39m\\\n\u001b[1;32m   1319\u001b[0m     proto\u001b[38;5;241m.\u001b[39mEND_COMMAND_PART\n\u001b[1;32m   1321\u001b[0m answer \u001b[38;5;241m=\u001b[39m \u001b[38;5;28mself\u001b[39m\u001b[38;5;241m.\u001b[39mgateway_client\u001b[38;5;241m.\u001b[39msend_command(command)\n\u001b[0;32m-> 1322\u001b[0m return_value \u001b[38;5;241m=\u001b[39m \u001b[43mget_return_value\u001b[49m\u001b[43m(\u001b[49m\n\u001b[1;32m   1323\u001b[0m \u001b[43m    \u001b[49m\u001b[43manswer\u001b[49m\u001b[43m,\u001b[49m\u001b[43m \u001b[49m\u001b[38;5;28;43mself\u001b[39;49m\u001b[38;5;241;43m.\u001b[39;49m\u001b[43mgateway_client\u001b[49m\u001b[43m,\u001b[49m\u001b[43m \u001b[49m\u001b[38;5;28;43mself\u001b[39;49m\u001b[38;5;241;43m.\u001b[39;49m\u001b[43mtarget_id\u001b[49m\u001b[43m,\u001b[49m\u001b[43m \u001b[49m\u001b[38;5;28;43mself\u001b[39;49m\u001b[38;5;241;43m.\u001b[39;49m\u001b[43mname\u001b[49m\u001b[43m)\u001b[49m\n\u001b[1;32m   1325\u001b[0m \u001b[38;5;28;01mfor\u001b[39;00m temp_arg \u001b[38;5;129;01min\u001b[39;00m temp_args:\n\u001b[1;32m   1326\u001b[0m     \u001b[38;5;28;01mif\u001b[39;00m \u001b[38;5;28mhasattr\u001b[39m(temp_arg, \u001b[38;5;124m\"\u001b[39m\u001b[38;5;124m_detach\u001b[39m\u001b[38;5;124m\"\u001b[39m):\n",
      "File \u001b[0;32m~/Work/PySpark/pyspark-env/lib/python3.11/site-packages/pyspark/errors/exceptions/captured.py:185\u001b[0m, in \u001b[0;36mcapture_sql_exception.<locals>.deco\u001b[0;34m(*a, **kw)\u001b[0m\n\u001b[1;32m    181\u001b[0m converted \u001b[38;5;241m=\u001b[39m convert_exception(e\u001b[38;5;241m.\u001b[39mjava_exception)\n\u001b[1;32m    182\u001b[0m \u001b[38;5;28;01mif\u001b[39;00m \u001b[38;5;129;01mnot\u001b[39;00m \u001b[38;5;28misinstance\u001b[39m(converted, UnknownException):\n\u001b[1;32m    183\u001b[0m     \u001b[38;5;66;03m# Hide where the exception came from that shows a non-Pythonic\u001b[39;00m\n\u001b[1;32m    184\u001b[0m     \u001b[38;5;66;03m# JVM exception message.\u001b[39;00m\n\u001b[0;32m--> 185\u001b[0m     \u001b[38;5;28;01mraise\u001b[39;00m converted \u001b[38;5;28;01mfrom\u001b[39;00m \u001b[38;5;28;01mNone\u001b[39;00m\n\u001b[1;32m    186\u001b[0m \u001b[38;5;28;01melse\u001b[39;00m:\n\u001b[1;32m    187\u001b[0m     \u001b[38;5;28;01mraise\u001b[39;00m\n",
      "\u001b[0;31mAnalysisException\u001b[0m: [UNRESOLVED_COLUMN.WITH_SUGGESTION] A column or function parameter with name `price` cannot be resolved. Did you mean one of the following? [`ID`, `Name`, `Email`, `Credit_Card_Type`, `Credit_Card_Number`].;\n'Project [id#17, name#18, 'price]\n+- Relation [ID#17,Name#18,Email#19,Credit_Card_Number#20,Credit_Card_Type#21] csv\n"
     ]
    }
   ],
   "source": [
    "selected_columns = df.select(\"id\",\"name\",\"price\")\n",
    "print(\"Selected Columns : \")\n",
    "selected_columns.show()"
   ]
  },
  {
   "cell_type": "code",
   "execution_count": 6,
   "id": "f0b48507-a7ef-45de-8e42-2978a1a394cd",
   "metadata": {},
   "outputs": [
    {
     "name": "stdout",
     "output_type": "stream",
     "text": [
      "Filtered Data :  12\n",
      "+---+--------------+-----------+--------+-----+\n",
      "| id|          name|   category|quantity|price|\n",
      "+---+--------------+-----------+--------+-----+\n",
      "|  6|    Nike Shoes|   Clothing|      30|99.99|\n",
      "|  7|  Adidas Shoes|   Clothing|      25|89.99|\n",
      "| 12|        Apples|       Food|     100|  0.5|\n",
      "| 13|       Bananas|       Food|     150| 0.25|\n",
      "| 14|       Oranges|       Food|     120| 0.75|\n",
      "| 15|Chicken Breast|       Food|      50| 3.99|\n",
      "| 16| Salmon Fillet|       Food|      30| 5.99|\n",
      "| 24|    Laptop Bag|Accessories|      25|29.99|\n",
      "| 25|      Backpack|Accessories|      30|24.99|\n",
      "| 28|         Jeans|   Clothing|      30|59.99|\n",
      "| 29|       T-shirt|   Clothing|      50|14.99|\n",
      "| 30|      Sneakers|   Clothing|      40|79.99|\n",
      "+---+--------------+-----------+--------+-----+\n",
      "\n"
     ]
    }
   ],
   "source": [
    "filtered_data = df.filter(df.quantity > 20)\n",
    "print(\"Filtered Data : \",filtered_data.count())\n",
    "filtered_data.show()"
   ]
  },
  {
   "cell_type": "code",
   "execution_count": 7,
   "id": "0ce6c4a8-c7e6-4376-a0fe-7067769ebc70",
   "metadata": {},
   "outputs": [
    {
     "name": "stdout",
     "output_type": "stream",
     "text": [
      "Grouped & Aggregated Data : \n",
      "+-----------+-------------+------------------+\n",
      "|   category|sum(quantity)|        avg(price)|\n",
      "+-----------+-------------+------------------+\n",
      "|       Food|          450|2.2960000000000003|\n",
      "|     Sports|           35|             34.99|\n",
      "|Electronics|           98| 586.6566666666665|\n",
      "|   Clothing|          200|  99.2757142857143|\n",
      "|  Furniture|           41|            141.99|\n",
      "|Accessories|           55|             27.49|\n",
      "+-----------+-------------+------------------+\n",
      "\n"
     ]
    }
   ],
   "source": [
    "grouped_data = df.groupBy(\"category\").agg({\"quantity\":\"sum\",\"price\":\"avg\"})\n",
    "print(\"Grouped & Aggregated Data : \")\n",
    "grouped_data.show()"
   ]
  },
  {
   "cell_type": "code",
   "execution_count": 8,
   "id": "5e0fb531-ee62-4597-94fa-f932c8bb15a6",
   "metadata": {},
   "outputs": [
    {
     "name": "stdout",
     "output_type": "stream",
     "text": [
      "Joined Data : \n",
      "+---+----------------+-----------+--------+-------+-----------+\n",
      "| id|            name|   category|quantity|  price|   category|\n",
      "+---+----------------+-----------+--------+-------+-----------+\n",
      "|  1|          iPhone|Electronics|      10| 899.99|Electronics|\n",
      "|  2|         Macbook|Electronics|       5|1299.99|Electronics|\n",
      "|  3|            iPad|Electronics|      15| 499.99|Electronics|\n",
      "|  4|      Samsung TV|Electronics|       8| 799.99|Electronics|\n",
      "|  5|           LG TV|Electronics|      10| 699.99|Electronics|\n",
      "|  6|      Nike Shoes|   Clothing|      30|  99.99|   Clothing|\n",
      "|  7|    Adidas Shoes|   Clothing|      25|  89.99|   Clothing|\n",
      "|  8| Sony Headphones|Electronics|      12| 149.99|Electronics|\n",
      "|  9|Beats Headphones|Electronics|      20| 199.99|Electronics|\n",
      "| 10|    Dining Table|  Furniture|      10| 249.99|  Furniture|\n",
      "| 11|      Study Desk|  Furniture|       8| 149.99|  Furniture|\n",
      "| 12|          Apples|       Food|     100|    0.5|       Food|\n",
      "| 13|         Bananas|       Food|     150|   0.25|       Food|\n",
      "| 14|         Oranges|       Food|     120|   0.75|       Food|\n",
      "| 15|  Chicken Breast|       Food|      50|   3.99|       Food|\n",
      "+---+----------------+-----------+--------+-------+-----------+\n",
      "\n"
     ]
    }
   ],
   "source": [
    "df2 = df.select(\"id\",\"category\").limit(15)\n",
    "joined_data = df.join(df2, \"id\", \"inner\")\n",
    "print(\"Joined Data : \")\n",
    "joined_data.show()"
   ]
  },
  {
   "cell_type": "code",
   "execution_count": 17,
   "id": "311175f5-faab-4b47-8773-8a8a518f0c66",
   "metadata": {},
   "outputs": [
    {
     "name": "stdout",
     "output_type": "stream",
     "text": [
      "Sorted Data : \n",
      "+---+---------------+-----------+--------+------+\n",
      "| id|           name|   category|quantity| price|\n",
      "+---+---------------+-----------+--------+------+\n",
      "| 13|        Bananas|       Food|     150|  0.25|\n",
      "| 12|         Apples|       Food|     100|   0.5|\n",
      "| 14|        Oranges|       Food|     120|  0.75|\n",
      "| 15| Chicken Breast|       Food|      50|  3.99|\n",
      "| 16|  Salmon Fillet|       Food|      30|  5.99|\n",
      "| 29|        T-shirt|   Clothing|      50| 14.99|\n",
      "| 19|       Yoga Mat|     Sports|      20| 19.99|\n",
      "| 25|       Backpack|Accessories|      30| 24.99|\n",
      "| 24|     Laptop Bag|Accessories|      25| 29.99|\n",
      "| 20|   Dumbbell Set|     Sports|      15| 49.99|\n",
      "| 28|          Jeans|   Clothing|      30| 59.99|\n",
      "| 22|   Office Chair|  Furniture|       8| 79.99|\n",
      "| 30|       Sneakers|   Clothing|      40| 79.99|\n",
      "|  7|   Adidas Shoes|   Clothing|      25| 89.99|\n",
      "|  6|     Nike Shoes|   Clothing|      30| 99.99|\n",
      "| 23|      Bookshelf|  Furniture|      10| 99.99|\n",
      "| 21|   Coffee Table|  Furniture|       5|129.99|\n",
      "| 27|        Printer|Electronics|       8|129.99|\n",
      "|  8|Sony Headphones|Electronics|      12|149.99|\n",
      "| 11|     Study Desk|  Furniture|       8|149.99|\n",
      "+---+---------------+-----------+--------+------+\n",
      "only showing top 20 rows\n",
      "\n"
     ]
    }
   ],
   "source": [
    "sorted_data = df.orderBy(\"price\")\n",
    "print(\"Sorted Data : \")\n",
    "sorted_data.show()"
   ]
  },
  {
   "cell_type": "code",
   "execution_count": 22,
   "id": "2628f48c-691b-43f3-b78c-fd286db37b4b",
   "metadata": {},
   "outputs": [
    {
     "name": "stdout",
     "output_type": "stream",
     "text": [
      "Sorted Data Descending & Ascending : \n",
      "+---+----------------+-----------+--------+-------+\n",
      "| id|            name|   category|quantity|  price|\n",
      "+---+----------------+-----------+--------+-------+\n",
      "|  2|         Macbook|Electronics|       5|1299.99|\n",
      "|  1|          iPhone|Electronics|      10| 899.99|\n",
      "|  4|      Samsung TV|Electronics|       8| 799.99|\n",
      "|  5|           LG TV|Electronics|      10| 699.99|\n",
      "| 26|          Camera|Electronics|      10| 599.99|\n",
      "|  3|            iPad|Electronics|      15| 499.99|\n",
      "| 10|    Dining Table|  Furniture|      10| 249.99|\n",
      "| 17|  Leather Jacket|   Clothing|      15| 199.99|\n",
      "|  9|Beats Headphones|Electronics|      20| 199.99|\n",
      "| 11|      Study Desk|  Furniture|       8| 149.99|\n",
      "| 18|     Winter Coat|   Clothing|      10| 149.99|\n",
      "|  8| Sony Headphones|Electronics|      12| 149.99|\n",
      "| 21|    Coffee Table|  Furniture|       5| 129.99|\n",
      "| 27|         Printer|Electronics|       8| 129.99|\n",
      "| 23|       Bookshelf|  Furniture|      10|  99.99|\n",
      "|  6|      Nike Shoes|   Clothing|      30|  99.99|\n",
      "|  7|    Adidas Shoes|   Clothing|      25|  89.99|\n",
      "| 22|    Office Chair|  Furniture|       8|  79.99|\n",
      "| 30|        Sneakers|   Clothing|      40|  79.99|\n",
      "| 28|           Jeans|   Clothing|      30|  59.99|\n",
      "+---+----------------+-----------+--------+-------+\n",
      "only showing top 20 rows\n",
      "\n"
     ]
    }
   ],
   "source": [
    "from pyspark.sql.functions import col,desc,asc\n",
    "sorted_data = df.orderBy(col(\"price\").desc(),col(\"quantity\").asc())\n",
    "print(\"Sorted Data Descending & Ascending : \")\n",
    "sorted_data.show()"
   ]
  },
  {
   "cell_type": "code",
   "execution_count": 29,
   "id": "21ed3fcc-57c9-46f6-9ace-680256a8d33a",
   "metadata": {},
   "outputs": [
    {
     "name": "stdout",
     "output_type": "stream",
     "text": [
      "Distinct Product Categories : \n",
      "+-----------+\n",
      "|   category|\n",
      "+-----------+\n",
      "|       Food|\n",
      "|     Sports|\n",
      "|Electronics|\n",
      "|   Clothing|\n",
      "|  Furniture|\n",
      "|Accessories|\n",
      "+-----------+\n",
      "\n"
     ]
    }
   ],
   "source": [
    "distinct_rows = df.select(\"category\").distinct()\n",
    "print(\"Distinct Product Categories : \")\n",
    "distinct_rows.show()"
   ]
  },
  {
   "cell_type": "code",
   "execution_count": 30,
   "id": "f4b58b21-5d4e-42b7-9ef6-1c744d4db494",
   "metadata": {},
   "outputs": [
    {
     "name": "stdout",
     "output_type": "stream",
     "text": [
      "Dropped Columns : \n",
      "+---+----------------+-------+\n",
      "| id|            name|  price|\n",
      "+---+----------------+-------+\n",
      "|  1|          iPhone| 899.99|\n",
      "|  2|         Macbook|1299.99|\n",
      "|  3|            iPad| 499.99|\n",
      "|  4|      Samsung TV| 799.99|\n",
      "|  5|           LG TV| 699.99|\n",
      "|  6|      Nike Shoes|  99.99|\n",
      "|  7|    Adidas Shoes|  89.99|\n",
      "|  8| Sony Headphones| 149.99|\n",
      "|  9|Beats Headphones| 199.99|\n",
      "| 10|    Dining Table| 249.99|\n",
      "| 11|      Study Desk| 149.99|\n",
      "| 12|          Apples|    0.5|\n",
      "| 13|         Bananas|   0.25|\n",
      "| 14|         Oranges|   0.75|\n",
      "| 15|  Chicken Breast|   3.99|\n",
      "| 16|   Salmon Fillet|   5.99|\n",
      "| 17|  Leather Jacket| 199.99|\n",
      "| 18|     Winter Coat| 149.99|\n",
      "| 19|        Yoga Mat|  19.99|\n",
      "| 20|    Dumbbell Set|  49.99|\n",
      "+---+----------------+-------+\n",
      "only showing top 20 rows\n",
      "\n",
      "Original DataFrame : \n",
      "+---+----------------+-----------+--------+-------+\n",
      "| id|            name|   category|quantity|  price|\n",
      "+---+----------------+-----------+--------+-------+\n",
      "|  1|          iPhone|Electronics|      10| 899.99|\n",
      "|  2|         Macbook|Electronics|       5|1299.99|\n",
      "|  3|            iPad|Electronics|      15| 499.99|\n",
      "|  4|      Samsung TV|Electronics|       8| 799.99|\n",
      "|  5|           LG TV|Electronics|      10| 699.99|\n",
      "|  6|      Nike Shoes|   Clothing|      30|  99.99|\n",
      "|  7|    Adidas Shoes|   Clothing|      25|  89.99|\n",
      "|  8| Sony Headphones|Electronics|      12| 149.99|\n",
      "|  9|Beats Headphones|Electronics|      20| 199.99|\n",
      "| 10|    Dining Table|  Furniture|      10| 249.99|\n",
      "| 11|      Study Desk|  Furniture|       8| 149.99|\n",
      "| 12|          Apples|       Food|     100|    0.5|\n",
      "| 13|         Bananas|       Food|     150|   0.25|\n",
      "| 14|         Oranges|       Food|     120|   0.75|\n",
      "| 15|  Chicken Breast|       Food|      50|   3.99|\n",
      "| 16|   Salmon Fillet|       Food|      30|   5.99|\n",
      "| 17|  Leather Jacket|   Clothing|      15| 199.99|\n",
      "| 18|     Winter Coat|   Clothing|      10| 149.99|\n",
      "| 19|        Yoga Mat|     Sports|      20|  19.99|\n",
      "| 20|    Dumbbell Set|     Sports|      15|  49.99|\n",
      "+---+----------------+-----------+--------+-------+\n",
      "only showing top 20 rows\n",
      "\n"
     ]
    }
   ],
   "source": [
    "dropped_column = df.drop(\"quantity\",\"category\")\n",
    "print(\"Dropped Columns : \")\n",
    "dropped_column.show()\n",
    "print(\"Original DataFrame : \")\n",
    "df.show()"
   ]
  },
  {
   "cell_type": "code",
   "execution_count": 31,
   "id": "d6ddfd11-286a-4e4f-bc84-ce28fbfd48df",
   "metadata": {},
   "outputs": [
    {
     "name": "stdout",
     "output_type": "stream",
     "text": [
      "DataFrame with New Column : \n",
      "+---+----------------+-----------+--------+-------+------------------+\n",
      "| id|            name|   category|quantity|  price|           revenue|\n",
      "+---+----------------+-----------+--------+-------+------------------+\n",
      "|  1|          iPhone|Electronics|      10| 899.99|            8999.9|\n",
      "|  2|         Macbook|Electronics|       5|1299.99|           6499.95|\n",
      "|  3|            iPad|Electronics|      15| 499.99|           7499.85|\n",
      "|  4|      Samsung TV|Electronics|       8| 799.99|           6399.92|\n",
      "|  5|           LG TV|Electronics|      10| 699.99|            6999.9|\n",
      "|  6|      Nike Shoes|   Clothing|      30|  99.99|            2999.7|\n",
      "|  7|    Adidas Shoes|   Clothing|      25|  89.99|           2249.75|\n",
      "|  8| Sony Headphones|Electronics|      12| 149.99|           1799.88|\n",
      "|  9|Beats Headphones|Electronics|      20| 199.99|            3999.8|\n",
      "| 10|    Dining Table|  Furniture|      10| 249.99|            2499.9|\n",
      "| 11|      Study Desk|  Furniture|       8| 149.99|           1199.92|\n",
      "| 12|          Apples|       Food|     100|    0.5|              50.0|\n",
      "| 13|         Bananas|       Food|     150|   0.25|              37.5|\n",
      "| 14|         Oranges|       Food|     120|   0.75|              90.0|\n",
      "| 15|  Chicken Breast|       Food|      50|   3.99|             199.5|\n",
      "| 16|   Salmon Fillet|       Food|      30|   5.99|179.70000000000002|\n",
      "| 17|  Leather Jacket|   Clothing|      15| 199.99|2999.8500000000004|\n",
      "| 18|     Winter Coat|   Clothing|      10| 149.99|            1499.9|\n",
      "| 19|        Yoga Mat|     Sports|      20|  19.99|399.79999999999995|\n",
      "| 20|    Dumbbell Set|     Sports|      15|  49.99|            749.85|\n",
      "+---+----------------+-----------+--------+-------+------------------+\n",
      "only showing top 20 rows\n",
      "\n"
     ]
    }
   ],
   "source": [
    "df_with_new_column = df.withColumn(\"revenue\",df.quantity * df.price)\n",
    "print(\"DataFrame with New Column : \")\n",
    "df_with_new_column.show()"
   ]
  },
  {
   "cell_type": "code",
   "execution_count": 32,
   "id": "fa71c9ab-f416-43ff-bcb6-08a8dff571aa",
   "metadata": {},
   "outputs": [
    {
     "name": "stdout",
     "output_type": "stream",
     "text": [
      "DataFrame with Aliased Column : \n",
      "+---+----------------+-----------+--------+-------------+\n",
      "| id|            name|   category|quantity|product_price|\n",
      "+---+----------------+-----------+--------+-------------+\n",
      "|  1|          iPhone|Electronics|      10|       899.99|\n",
      "|  2|         Macbook|Electronics|       5|      1299.99|\n",
      "|  3|            iPad|Electronics|      15|       499.99|\n",
      "|  4|      Samsung TV|Electronics|       8|       799.99|\n",
      "|  5|           LG TV|Electronics|      10|       699.99|\n",
      "|  6|      Nike Shoes|   Clothing|      30|        99.99|\n",
      "|  7|    Adidas Shoes|   Clothing|      25|        89.99|\n",
      "|  8| Sony Headphones|Electronics|      12|       149.99|\n",
      "|  9|Beats Headphones|Electronics|      20|       199.99|\n",
      "| 10|    Dining Table|  Furniture|      10|       249.99|\n",
      "| 11|      Study Desk|  Furniture|       8|       149.99|\n",
      "| 12|          Apples|       Food|     100|          0.5|\n",
      "| 13|         Bananas|       Food|     150|         0.25|\n",
      "| 14|         Oranges|       Food|     120|         0.75|\n",
      "| 15|  Chicken Breast|       Food|      50|         3.99|\n",
      "| 16|   Salmon Fillet|       Food|      30|         5.99|\n",
      "| 17|  Leather Jacket|   Clothing|      15|       199.99|\n",
      "| 18|     Winter Coat|   Clothing|      10|       149.99|\n",
      "| 19|        Yoga Mat|     Sports|      20|        19.99|\n",
      "| 20|    Dumbbell Set|     Sports|      15|        49.99|\n",
      "+---+----------------+-----------+--------+-------------+\n",
      "only showing top 20 rows\n",
      "\n"
     ]
    }
   ],
   "source": [
    "df_with_alias = df.withColumnRenamed(\"price\",\"product_price\")\n",
    "print(\"DataFrame with Aliased Column : \")\n",
    "df_with_alias.show()"
   ]
  },
  {
   "cell_type": "code",
   "execution_count": 33,
   "id": "2d188403-0430-46f3-a4b7-1cb2d0775532",
   "metadata": {},
   "outputs": [],
   "source": [
    "spark.stop()"
   ]
  }
 ],
 "metadata": {
  "kernelspec": {
   "display_name": "Python 3 (ipykernel)",
   "language": "python",
   "name": "python3"
  },
  "language_info": {
   "codemirror_mode": {
    "name": "ipython",
    "version": 3
   },
   "file_extension": ".py",
   "mimetype": "text/x-python",
   "name": "python",
   "nbconvert_exporter": "python",
   "pygments_lexer": "ipython3",
   "version": "3.11.0"
  }
 },
 "nbformat": 4,
 "nbformat_minor": 5
}
